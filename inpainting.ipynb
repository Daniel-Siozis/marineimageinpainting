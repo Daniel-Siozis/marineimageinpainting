{
 "cells": [
  {
   "cell_type": "code",
   "execution_count": 10,
   "id": "898a6c59-3bf0-4c8f-b170-0d3888ebf8f0",
   "metadata": {},
   "outputs": [],
   "source": [
    "import numpy as np\n",
    "import cv2\n",
    "img = cv2.imread('img/zelda.jpg')\n",
    "mask = cv2.imread('img/zeldamask.png',0)\n",
    "dst = cv2.inpaint(img,mask,3,cv2.INPAINT_TELEA)\n",
    "cv2.imwrite('zelda1_scratch_inpainted.jpg', dst)\n",
    "cv2.imshow('dst',dst)\n",
    "cv2.waitKey(0)\n",
    "cv2.destroyAllWindows()"
   ]
  },
  {
   "cell_type": "code",
   "execution_count": null,
   "id": "47cad0f3-6089-4f5d-85ca-e7b9299df71c",
   "metadata": {},
   "outputs": [],
   "source": []
  },
  {
   "cell_type": "code",
   "execution_count": null,
   "id": "4714bae1-6264-4eec-8e52-ede5c37367c3",
   "metadata": {},
   "outputs": [],
   "source": []
  },
  {
   "cell_type": "code",
   "execution_count": null,
   "id": "d48cadac-943b-4f8b-ab59-8d283753826b",
   "metadata": {},
   "outputs": [],
   "source": []
  }
 ],
 "metadata": {
  "kernelspec": {
   "display_name": "Python 3 (ipykernel)",
   "language": "python",
   "name": "python3"
  },
  "language_info": {
   "codemirror_mode": {
    "name": "ipython",
    "version": 3
   },
   "file_extension": ".py",
   "mimetype": "text/x-python",
   "name": "python",
   "nbconvert_exporter": "python",
   "pygments_lexer": "ipython3",
   "version": "3.11.9"
  }
 },
 "nbformat": 4,
 "nbformat_minor": 5
}
